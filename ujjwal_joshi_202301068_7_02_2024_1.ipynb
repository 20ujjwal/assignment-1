{
  "nbformat": 4,
  "nbformat_minor": 0,
  "metadata": {
    "colab": {
      "provenance": [],
      "name": "ujjwal-joshi_202301068_7-02-2024_1.ipynb",
      "authorship_tag": "ABX9TyMlBx6lbzpLJ6FiKLpwZy7k",
      "include_colab_link": true
    },
    "kernelspec": {
      "name": "python3",
      "display_name": "Python 3"
    },
    "language_info": {
      "name": "python"
    }
  },
  "cells": [
    {
      "cell_type": "markdown",
      "metadata": {
        "id": "view-in-github",
        "colab_type": "text"
      },
      "source": [
        "<a href=\"https://colab.research.google.com/github/20ujjwal/assignment-1/blob/main/ujjwal_joshi_202301068_7_02_2024_1.ipynb\" target=\"_parent\"><img src=\"https://colab.research.google.com/assets/colab-badge.svg\" alt=\"Open In Colab\"/></a>"
      ]
    },
    {
      "cell_type": "code",
      "source": [
        "import numpy as np\n",
        "arr1=np.array([1, 2, 3, 6, 4, 5])\n",
        "arr2=np.flip(arr1)\n",
        "print(arr2)"
      ],
      "metadata": {
        "colab": {
          "base_uri": "https://localhost:8080/"
        },
        "id": "UVWwt7ioNXWu",
        "outputId": "f1f1c448-ba5d-4ccd-f459-7588ac52f739"
      },
      "execution_count": null,
      "outputs": [
        {
          "output_type": "stream",
          "name": "stdout",
          "text": [
            "[5 4 6 3 2 1]\n"
          ]
        }
      ]
    },
    {
      "cell_type": "code",
      "source": [
        "import numpy as np\n",
        "\n",
        "arr1 = np.array([[1, 2], [3, 4]])\n",
        "arr2 = np.array([[1, 2], [3, 4]])\n",
        "\n",
        "print(\"arr1:\")\n",
        "print(arr1)\n",
        "\n",
        "print(\"arr2:\")\n",
        "print(arr2)"
      ],
      "metadata": {
        "colab": {
          "base_uri": "https://localhost:8080/"
        },
        "id": "FPWi8iVhNhEc",
        "outputId": "b68e72c5-683b-44f6-c8e1-1a8a7a2f2580"
      },
      "execution_count": null,
      "outputs": [
        {
          "output_type": "stream",
          "name": "stdout",
          "text": [
            "arr1:\n",
            "[[1 2]\n",
            " [3 4]]\n",
            "arr2:\n",
            "[[1 2]\n",
            " [3 4]]\n"
          ]
        }
      ]
    },
    {
      "cell_type": "code",
      "source": [
        "import numpy as np\n",
        "gfg = np.matrix('[4, 1, 9; 12, 3, 1; 4, 5, 6]')\n",
        "soae= np.sum(gfg)\n",
        "soaerw=np.sum(gfg,axis=1)\n",
        "soaecw=np.sum(gfg,axis=0)\n",
        "print(\"Sum of all elements:\", soae)\n",
        "print(\"Sum of all elements row-wise\",soaerw)\n",
        "print(\"Sum of all elements column-wise\",soaecw)"
      ],
      "metadata": {
        "colab": {
          "base_uri": "https://localhost:8080/"
        },
        "id": "-McRJQrlOwdS",
        "outputId": "56eff0cb-a7a2-43c0-e2bc-37f3dbb5e3e6"
      },
      "execution_count": null,
      "outputs": [
        {
          "output_type": "stream",
          "name": "stdout",
          "text": [
            "Sum of all elements: 45\n",
            "Sum of all elements row-wise [[14]\n",
            " [16]\n",
            " [15]]\n",
            "Sum of all elements column-wise [[20  9 16]]\n"
          ]
        }
      ]
    },
    {
      "cell_type": "code",
      "source": [
        "import numpy as np\n",
        "x = np.array([1, 2, 3, 4, 5, 1, 2, 1, 1, 1])\n",
        "y = np.array([1, 1, 1, 2, 3, 4, 2, 4, 3, 3, ])\n",
        "most_frequent_value1, counts1 = np.unique(x, return_counts=True)\n",
        "most_frequent_value2, counts2 = np.unique(y, return_counts=True)\n",
        "most_frequent_index1 = np.where(x == most_frequent_value1[counts1.argmax()])[0]\n",
        "most_frequent_index2 = np.where(y == most_frequent_value2[counts2.argmax()])[0]\n",
        "print(\"Most frequent value:\", most_frequent_value1[counts1.argmax()])\n",
        "print(\"Indices:\", most_frequent_index1)\n",
        "print(\"Most frequent value:\", most_frequent_value2[counts2.argmax()])\n",
        "print(\"Indices:\", most_frequent_index2)"
      ],
      "metadata": {
        "colab": {
          "base_uri": "https://localhost:8080/"
        },
        "id": "yc8LqMVxO7GF",
        "outputId": "fc2503ac-3e75-4101-cb80-eab2685f8376"
      },
      "execution_count": null,
      "outputs": [
        {
          "output_type": "stream",
          "name": "stdout",
          "text": [
            "Most frequent value: 1\n",
            "Indices: [0 5 7 8 9]\n",
            "Most frequent value: 1\n",
            "Indices: [0 1 2]\n"
          ]
        }
      ]
    }
  ]
}